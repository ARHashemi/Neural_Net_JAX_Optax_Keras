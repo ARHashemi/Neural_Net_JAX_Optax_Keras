{
 "cells": [
  {
   "cell_type": "markdown",
   "metadata": {},
   "source": [
    "Ispired by [Neural Network learns sine function using autodiff in JAX](https://github.com/Ceyron/machine-learning-and-simulation/blob/main/english/neural_network_sine_learning/nn_learns_sine_function_with_autodiff_in_jax.ipynb) and [Writing a training loop from scratch in JAX](https://keras.io/guides/writing_a_custom_training_loop_in_jax/)"
   ]
  },
  {
   "cell_type": "code",
   "execution_count": 1,
   "metadata": {},
   "outputs": [],
   "source": [
    "import os\n",
    "\n",
    "# Setting jax backend.\n",
    "os.environ[\"KERAS_BACKEND\"] = \"jax\"\n",
    "\n",
    "import jax\n",
    "import jax.numpy as jnp\n",
    "import keras\n",
    "import optax\n",
    "import matplotlib.pyplot as plt"
   ]
  },
  {
   "cell_type": "code",
   "execution_count": 2,
   "metadata": {},
   "outputs": [],
   "source": [
    "# Set JAX to use GPU or CPU\n",
    "jax.config.update('jax_default_device', jax.devices('gpu')[0])"
   ]
  },
  {
   "cell_type": "code",
   "execution_count": 3,
   "metadata": {},
   "outputs": [],
   "source": [
    "# User-defined parameters\n",
    "N_SAMPLES = 200\n",
    "LEARNING_RATE = 0.01\n",
    "REGULARIZATION_COEFF = 1e-3\n",
    "N_EPOCHS = 30_000"
   ]
  },
  {
   "cell_type": "code",
   "execution_count": 4,
   "metadata": {},
   "outputs": [],
   "source": [
    "key = jax.random.PRNGKey(10)"
   ]
  },
  {
   "cell_type": "code",
   "execution_count": 5,
   "metadata": {},
   "outputs": [],
   "source": [
    "# Generating random data\n",
    "key, xkey, ynoisekey = jax.random.split(key, 3)\n",
    "x_samples = jax.random.uniform(xkey, (N_SAMPLES, 1), minval=0.0, maxval=2*jnp.pi)\n",
    "y_samples = jnp.sin(x_samples) + jax.random.normal(ynoisekey, (N_SAMPLES, 1)) * 0.3"
   ]
  },
  {
   "cell_type": "code",
   "execution_count": 6,
   "metadata": {},
   "outputs": [
    {
     "data": {
      "text/plain": [
       "<matplotlib.collections.PathCollection at 0x7f099013a010>"
      ]
     },
     "execution_count": 6,
     "metadata": {},
     "output_type": "execute_result"
    },
    {
     "data": {
      "image/png": "[encoded data removed]",
      "text/plain": [
       "<Figure size 640x480 with 1 Axes>"
      ]
     },
     "metadata": {},
     "output_type": "display_data"
    }
   ],
   "source": [
    "plt.scatter(x_samples, y_samples)"
   ]
  },
  {
   "cell_type": "markdown",
   "metadata": {},
   "source": [
    "[jax.nn module, activation functions](https://jax.readthedocs.io/en/latest/jax.nn.html)"
   ]
  },
  {
   "cell_type": "code",
   "execution_count": 7,
   "metadata": {},
   "outputs": [],
   "source": [
    "activation = jax.nn.sigmoid"
   ]
  },
  {
   "cell_type": "markdown",
   "metadata": {},
   "source": [
    "[Keras dense layer](https://keras.io/api/layers/core_layers/dense/)"
   ]
  },
  {
   "cell_type": "code",
   "execution_count": 8,
   "metadata": {},
   "outputs": [],
   "source": [
    "def get_model():\n",
    "    inputs = keras.Input(shape=(1,), name=\"x\")\n",
    "    x1 = keras.layers.Dense(10, \n",
    "        activation=activation, use_bias=True, \n",
    "        kernel_initializer=\"glorot_uniform\",\n",
    "        activity_regularizer=keras.regularizers.L2(REGULARIZATION_COEFF)\n",
    "        )(inputs)\n",
    "    x2 = keras.layers.Dense(10, \n",
    "        activation=activation, use_bias=True, \n",
    "        kernel_initializer=\"glorot_uniform\",\n",
    "        activity_regularizer=keras.regularizers.L2(REGULARIZATION_COEFF)\n",
    "        )(x1)\n",
    "    x3 = keras.layers.Dense(10, \n",
    "        activation=activation, use_bias=True, \n",
    "        kernel_initializer=\"glorot_uniform\",\n",
    "        activity_regularizer=keras.regularizers.L2(REGULARIZATION_COEFF)\n",
    "        )(x2)\n",
    "    outputs = keras.layers.Dense(1, \n",
    "        use_bias=False, name=\"predictions\"\n",
    "        )(x3)\n",
    "    model = keras.Model(inputs=inputs, outputs=outputs)\n",
    "    return model"
   ]
  },
  {
   "cell_type": "code",
   "execution_count": 9,
   "metadata": {},
   "outputs": [],
   "source": [
    "model = get_model()"
   ]
  },
  {
   "cell_type": "code",
   "execution_count": 10,
   "metadata": {},
   "outputs": [],
   "source": [
    "# Define a loss function.\n",
    "def loss_fn(y, prediction):\n",
    "    delta = prediction - y\n",
    "    loss = jnp.mean(delta**2)\n",
    "    return loss"
   ]
  },
  {
   "cell_type": "code",
   "execution_count": 11,
   "metadata": {},
   "outputs": [],
   "source": [
    "def compute_loss_and_updates(trainable_variables, non_trainable_variables, x, y):\n",
    "    y_pred, non_trainable_variables, losses = model.stateless_call(\n",
    "        trainable_variables, non_trainable_variables, x, \n",
    "        training=True, return_losses=True\n",
    "    )\n",
    "    loss = loss_fn(y, y_pred)\n",
    "    if losses:\n",
    "        # Regularization: convert JAX array to float and add to the loss\n",
    "        loss_value = (jnp.sum(jnp.array(losses)))\n",
    "        loss += loss_value\n",
    "    return loss, non_trainable_variables"
   ]
  },
  {
   "cell_type": "code",
   "execution_count": 12,
   "metadata": {},
   "outputs": [],
   "source": [
    "grad_fn = jax.value_and_grad(compute_loss_and_updates, has_aux=True)"
   ]
  },
  {
   "cell_type": "code",
   "execution_count": 13,
   "metadata": {},
   "outputs": [],
   "source": [
    "trainable_variables = model.trainable_variables\n",
    "non_trainable_variables = model.non_trainable_variables"
   ]
  },
  {
   "cell_type": "markdown",
   "metadata": {},
   "source": [
    "[Optax optimizers](https://optax.readthedocs.io/en/latest/api/optimizers.html)"
   ]
  },
  {
   "cell_type": "code",
   "execution_count": 14,
   "metadata": {},
   "outputs": [],
   "source": [
    "# Optimizer\n",
    "opt = optax.adam(LEARNING_RATE)\n",
    "opt_state = opt.init(trainable_variables)"
   ]
  },
  {
   "cell_type": "code",
   "execution_count": 15,
   "metadata": {},
   "outputs": [],
   "source": [
    "state = trainable_variables, non_trainable_variables, opt_state"
   ]
  },
  {
   "cell_type": "code",
   "execution_count": 16,
   "metadata": {},
   "outputs": [],
   "source": [
    "@jax.jit\n",
    "def train_step(state, data):\n",
    "    trainable_variables, non_trainable_variables, opt_state = state\n",
    "    x, y = data\n",
    "    (loss, non_trainable_variables), grads = grad_fn(\n",
    "        trainable_variables, non_trainable_variables, x, y\n",
    "    )\n",
    "\n",
    "    updates, opt_state = opt.update(grads, opt_state, trainable_variables)\n",
    "    trainable_variables = optax.apply_updates(trainable_variables, updates)\n",
    "\n",
    "    # Return updated state\n",
    "    return loss, (\n",
    "        trainable_variables,\n",
    "        non_trainable_variables,\n",
    "        opt_state\n",
    "    )"
   ]
  },
  {
   "cell_type": "code",
   "execution_count": 17,
   "metadata": {},
   "outputs": [],
   "source": [
    "# Training history callback\n",
    "class HistoryCallback(keras.callbacks.Callback):\n",
    "    def __init__(self):\n",
    "        self.history = []\n",
    "        \n",
    "    def on_epoch_end(self, epoch, logs=None):\n",
    "        self.history.append(logs['loss'])\n",
    "        if epoch % 100 == 0:\n",
    "            print(f\"Epoch {epoch}, loss {logs['loss']}\")"
   ]
  },
  {
   "cell_type": "code",
   "execution_count": 18,
   "metadata": {},
   "outputs": [],
   "source": [
    "# Create callback\n",
    "history_callback = HistoryCallback()"
   ]
  },
  {
   "cell_type": "code",
   "execution_count": 19,
   "metadata": {},
   "outputs": [
    {
     "name": "stdout",
     "output_type": "stream",
     "text": [
      "Epoch 0, loss 5.496126651763916\n",
      "Epoch 100, loss 0.9543185234069824\n",
      "Epoch 200, loss 0.7869126796722412\n",
      "Epoch 300, loss 0.6990834474563599\n",
      "Epoch 400, loss 0.5997132062911987\n",
      "Epoch 500, loss 0.47094014286994934\n",
      "Epoch 600, loss 0.39504915475845337\n",
      "Epoch 700, loss 0.3537319302558899\n",
      "Epoch 800, loss 0.30990952253341675\n",
      "Epoch 900, loss 0.2784741520881653\n",
      "Epoch 1000, loss 0.2600497305393219\n",
      "Epoch 1100, loss 0.24731040000915527\n",
      "Epoch 1200, loss 0.23771896958351135\n",
      "Epoch 1300, loss 0.23010723292827606\n",
      "Epoch 1400, loss 0.22385400533676147\n",
      "Epoch 1500, loss 0.21863383054733276\n",
      "Epoch 1600, loss 0.21416407823562622\n",
      "Epoch 1700, loss 0.21030005812644958\n",
      "Epoch 1800, loss 0.20690132677555084\n",
      "Epoch 1900, loss 0.20388251543045044\n",
      "Epoch 2000, loss 0.20121103525161743\n",
      "Epoch 2100, loss 0.1987820863723755\n",
      "Epoch 2200, loss 0.1965835988521576\n",
      "Epoch 2300, loss 0.19456914067268372\n",
      "Epoch 2400, loss 0.1927424818277359\n",
      "Epoch 2500, loss 0.19104096293449402\n",
      "Epoch 2600, loss 0.18946920335292816\n",
      "Epoch 2700, loss 0.18801936507225037\n",
      "Epoch 2800, loss 0.1866799294948578\n",
      "Epoch 2900, loss 0.18541616201400757\n",
      "Epoch 3000, loss 0.18422405421733856\n",
      "Epoch 3100, loss 0.1831306517124176\n",
      "Epoch 3200, loss 0.18207673728466034\n",
      "Epoch 3300, loss 0.18107593059539795\n",
      "Epoch 3400, loss 0.1801435798406601\n",
      "Epoch 3500, loss 0.1792280673980713\n",
      "Epoch 3600, loss 0.1784091293811798\n",
      "Epoch 3700, loss 0.17760542035102844\n",
      "Epoch 3800, loss 0.1768391877412796\n",
      "Epoch 3900, loss 0.17611363530158997\n",
      "Epoch 4000, loss 0.1754191517829895\n",
      "Epoch 4100, loss 0.17474311590194702\n",
      "Epoch 4200, loss 0.17409645020961761\n",
      "Epoch 4300, loss 0.17348061501979828\n",
      "Epoch 4400, loss 0.1728620082139969\n",
      "Epoch 4500, loss 0.17226096987724304\n",
      "Epoch 4600, loss 0.17169474065303802\n",
      "Epoch 4700, loss 0.17114244401454926\n",
      "Epoch 4800, loss 0.1705695390701294\n",
      "Epoch 4900, loss 0.1700185239315033\n",
      "Epoch 5000, loss 0.16946706175804138\n",
      "Epoch 5100, loss 0.168883815407753\n",
      "Epoch 5200, loss 0.16825439035892487\n",
      "Epoch 5300, loss 0.16755975782871246\n",
      "Epoch 5400, loss 0.16668091714382172\n",
      "Epoch 5500, loss 0.16538415849208832\n",
      "Epoch 5600, loss 0.1625465452671051\n",
      "Epoch 5700, loss 0.15218713879585266\n",
      "Epoch 5800, loss 0.14002564549446106\n",
      "Epoch 5900, loss 0.13282440602779388\n",
      "Epoch 6000, loss 0.12772154808044434\n",
      "Epoch 6100, loss 0.12437605857849121\n",
      "Epoch 6200, loss 0.1218932718038559\n",
      "Epoch 6300, loss 0.1199023574590683\n",
      "Epoch 6400, loss 0.11825868487358093\n",
      "Epoch 6500, loss 0.11684087663888931\n",
      "Epoch 6600, loss 0.11558443307876587\n",
      "Epoch 6700, loss 0.11449115723371506\n",
      "Epoch 6800, loss 0.11352841556072235\n",
      "Epoch 6900, loss 0.11263077706098557\n",
      "Epoch 7000, loss 0.11178465187549591\n",
      "Epoch 7100, loss 0.11104525625705719\n",
      "Epoch 7200, loss 0.11041096597909927\n",
      "Epoch 7300, loss 0.10972870141267776\n",
      "Epoch 7400, loss 0.10914286226034164\n",
      "Epoch 7500, loss 0.1085980087518692\n",
      "Epoch 7600, loss 0.10806526243686676\n",
      "Epoch 7700, loss 0.10760192573070526\n",
      "Epoch 7800, loss 0.10714294761419296\n",
      "Epoch 7900, loss 0.10672048479318619\n",
      "Epoch 8000, loss 0.1062878891825676\n",
      "Epoch 8100, loss 0.10592568665742874\n",
      "Epoch 8200, loss 0.10555485635995865\n",
      "Epoch 8300, loss 0.10521253943443298\n",
      "Epoch 8400, loss 0.10489452630281448\n",
      "Epoch 8500, loss 0.10455700755119324\n",
      "Epoch 8600, loss 0.10428639501333237\n",
      "Epoch 8700, loss 0.10398323833942413\n",
      "Epoch 8800, loss 0.10370472073554993\n",
      "Epoch 8900, loss 0.10343506932258606\n",
      "Epoch 9000, loss 0.1032041609287262\n",
      "Epoch 9100, loss 0.1029694452881813\n",
      "Epoch 9200, loss 0.10272908210754395\n",
      "Epoch 9300, loss 0.1025078222155571\n",
      "Epoch 9400, loss 0.10227561742067337\n",
      "Epoch 9500, loss 0.10209093987941742\n",
      "Epoch 9600, loss 0.10185693204402924\n",
      "Epoch 9700, loss 0.10164845734834671\n",
      "Epoch 9800, loss 0.10148615390062332\n",
      "Epoch 9900, loss 0.10129201412200928\n",
      "Epoch 10000, loss 0.10112276673316956\n",
      "Epoch 10100, loss 0.10094829648733139\n",
      "Epoch 10200, loss 0.10076224058866501\n",
      "Epoch 10300, loss 0.10058245062828064\n",
      "Epoch 10400, loss 0.10043816268444061\n",
      "Epoch 10500, loss 0.10027814656496048\n",
      "Epoch 10600, loss 0.1001025140285492\n",
      "Epoch 10700, loss 0.09995432943105698\n",
      "Epoch 10800, loss 0.0998215302824974\n",
      "Epoch 10900, loss 0.09964453428983688\n",
      "Epoch 11000, loss 0.09946585446596146\n",
      "Epoch 11100, loss 0.09929178655147552\n",
      "Epoch 11200, loss 0.09912016242742538\n",
      "Epoch 11300, loss 0.0989648699760437\n",
      "Epoch 11400, loss 0.0987718477845192\n",
      "Epoch 11500, loss 0.09861905872821808\n",
      "Epoch 11600, loss 0.0984252542257309\n",
      "Epoch 11700, loss 0.09828457981348038\n",
      "Epoch 11800, loss 0.09811314195394516\n",
      "Epoch 11900, loss 0.09795476496219635\n",
      "Epoch 12000, loss 0.09782025218009949\n",
      "Epoch 12100, loss 0.09769263118505478\n",
      "Epoch 12200, loss 0.09755933284759521\n",
      "Epoch 12300, loss 0.09742314368486404\n",
      "Epoch 12400, loss 0.09729234874248505\n",
      "Epoch 12500, loss 0.09717821329832077\n",
      "Epoch 12600, loss 0.09710359573364258\n",
      "Epoch 12700, loss 0.09695403277873993\n",
      "Epoch 12800, loss 0.09685500711202621\n",
      "Epoch 12900, loss 0.09674704819917679\n",
      "Epoch 13000, loss 0.09669726341962814\n",
      "Epoch 13100, loss 0.09656800329685211\n",
      "Epoch 13200, loss 0.0964859277009964\n",
      "Epoch 13300, loss 0.09641782939434052\n",
      "Epoch 13400, loss 0.09634426236152649\n",
      "Epoch 13500, loss 0.09625514596700668\n",
      "Epoch 13600, loss 0.09616070985794067\n",
      "Epoch 13700, loss 0.09609727561473846\n",
      "Epoch 13800, loss 0.0960228443145752\n",
      "Epoch 13900, loss 0.09596219658851624\n",
      "Epoch 14000, loss 0.09589434415102005\n",
      "Epoch 14100, loss 0.09581901878118515\n",
      "Epoch 14200, loss 0.09575209021568298\n",
      "Epoch 14300, loss 0.09554979205131531\n",
      "Epoch 14400, loss 0.09537829458713531\n",
      "Epoch 14500, loss 0.09516347944736481\n",
      "Epoch 14600, loss 0.09503313153982162\n",
      "Epoch 14700, loss 0.09490300714969635\n",
      "Epoch 14800, loss 0.09480537474155426\n",
      "Epoch 14900, loss 0.09476333111524582\n",
      "Epoch 15000, loss 0.09468095004558563\n",
      "Epoch 15100, loss 0.0946071594953537\n",
      "Epoch 15200, loss 0.09453108161687851\n",
      "Epoch 15300, loss 0.09448927640914917\n",
      "Epoch 15400, loss 0.09442336857318878\n",
      "Epoch 15500, loss 0.09437673538923264\n",
      "Epoch 15600, loss 0.09434113651514053\n",
      "Epoch 15700, loss 0.09427667409181595\n",
      "Epoch 15800, loss 0.09422650933265686\n",
      "Epoch 15900, loss 0.09416865557432175\n",
      "Epoch 16000, loss 0.09415288269519806\n",
      "Epoch 16100, loss 0.09409087896347046\n",
      "Epoch 16200, loss 0.09405438601970673\n",
      "Epoch 16300, loss 0.09403019398450851\n",
      "Epoch 16400, loss 0.09399532526731491\n",
      "Epoch 16500, loss 0.09399852901697159\n",
      "Epoch 16600, loss 0.09392036497592926\n",
      "Epoch 16700, loss 0.09388429671525955\n",
      "Epoch 16800, loss 0.09384782612323761\n",
      "Epoch 16900, loss 0.09384183585643768\n",
      "Epoch 17000, loss 0.09382934123277664\n",
      "Epoch 17100, loss 0.09378348290920258\n",
      "Epoch 17200, loss 0.0937456339597702\n",
      "Epoch 17300, loss 0.09372325241565704\n",
      "Epoch 17400, loss 0.09369780123233795\n",
      "Epoch 17500, loss 0.0936610996723175\n",
      "Epoch 17600, loss 0.09366873651742935\n",
      "Epoch 17700, loss 0.0936393290758133\n",
      "Epoch 17800, loss 0.09358948469161987\n",
      "Epoch 17900, loss 0.09357698261737823\n",
      "Epoch 18000, loss 0.09356013685464859\n",
      "Epoch 18100, loss 0.09352022409439087\n",
      "Epoch 18200, loss 0.09350509196519852\n",
      "Epoch 18300, loss 0.09347057342529297\n",
      "Epoch 18400, loss 0.09344910085201263\n",
      "Epoch 18500, loss 0.09343700110912323\n",
      "Epoch 18600, loss 0.09341239929199219\n",
      "Epoch 18700, loss 0.09338082373142242\n",
      "Epoch 18800, loss 0.09337900578975677\n",
      "Epoch 18900, loss 0.09334911406040192\n",
      "Epoch 19000, loss 0.09330414235591888\n",
      "Epoch 19100, loss 0.09331264346837997\n",
      "Epoch 19200, loss 0.09330812096595764\n",
      "Epoch 19300, loss 0.0932537168264389\n",
      "Epoch 19400, loss 0.09325488656759262\n",
      "Epoch 19500, loss 0.09322778880596161\n",
      "Epoch 19600, loss 0.09322050958871841\n",
      "Epoch 19700, loss 0.09319084882736206\n",
      "Epoch 19800, loss 0.0931687206029892\n",
      "Epoch 19900, loss 0.0931386649608612\n",
      "Epoch 20000, loss 0.09315622597932816\n",
      "Epoch 20100, loss 0.09310764819383621\n",
      "Epoch 20200, loss 0.09311049431562424\n",
      "Epoch 20300, loss 0.09311014413833618\n",
      "Epoch 20400, loss 0.0930713638663292\n",
      "Epoch 20500, loss 0.09306801110506058\n",
      "Epoch 20600, loss 0.09304226189851761\n",
      "Epoch 20700, loss 0.09304147213697433\n",
      "Epoch 20800, loss 0.09301603585481644\n",
      "Epoch 20900, loss 0.09299489110708237\n",
      "Epoch 21000, loss 0.09297411143779755\n",
      "Epoch 21100, loss 0.09296121448278427\n",
      "Epoch 21200, loss 0.0929604098200798\n",
      "Epoch 21300, loss 0.09291278570890427\n",
      "Epoch 21400, loss 0.09291199594736099\n",
      "Epoch 21500, loss 0.09288779646158218\n",
      "Epoch 21600, loss 0.09286639839410782\n",
      "Epoch 21700, loss 0.09284429997205734\n",
      "Epoch 21800, loss 0.0928482636809349\n",
      "Epoch 21900, loss 0.09283484518527985\n",
      "Epoch 22000, loss 0.09280214458703995\n",
      "Epoch 22100, loss 0.09280555695295334\n",
      "Epoch 22200, loss 0.09277825802564621\n",
      "Epoch 22300, loss 0.09279853850603104\n",
      "Epoch 22400, loss 0.09276793897151947\n",
      "Epoch 22500, loss 0.0927523598074913\n",
      "Epoch 22600, loss 0.09274886548519135\n",
      "Epoch 22700, loss 0.09271306544542313\n",
      "Epoch 22800, loss 0.09273391962051392\n",
      "Epoch 22900, loss 0.09267798066139221\n",
      "Epoch 23000, loss 0.09271515905857086\n",
      "Epoch 23100, loss 0.09266254305839539\n",
      "Epoch 23200, loss 0.0926501527428627\n",
      "Epoch 23300, loss 0.09262441843748093\n",
      "Epoch 23400, loss 0.0926155224442482\n",
      "Epoch 23500, loss 0.0926283523440361\n",
      "Epoch 23600, loss 0.09257957339286804\n",
      "Epoch 23700, loss 0.09257031232118607\n",
      "Epoch 23800, loss 0.09256704151630402\n",
      "Epoch 23900, loss 0.09252845495939255\n",
      "Epoch 24000, loss 0.09253472089767456\n",
      "Epoch 24100, loss 0.09252309054136276\n",
      "Epoch 24200, loss 0.09256597608327866\n",
      "Epoch 24300, loss 0.0925004780292511\n",
      "Epoch 24400, loss 0.09248267859220505\n",
      "Epoch 24500, loss 0.09248144924640656\n",
      "Epoch 24600, loss 0.09246242791414261\n",
      "Epoch 24700, loss 0.09247757494449615\n",
      "Epoch 24800, loss 0.09242499619722366\n",
      "Epoch 24900, loss 0.0924370139837265\n",
      "Epoch 25000, loss 0.09244822710752487\n",
      "Epoch 25100, loss 0.09241990745067596\n",
      "Epoch 25200, loss 0.09240951389074326\n",
      "Epoch 25300, loss 0.0924021303653717\n",
      "Epoch 25400, loss 0.09237615019083023\n",
      "Epoch 25500, loss 0.09238442778587341\n",
      "Epoch 25600, loss 0.09238094091415405\n",
      "Epoch 25700, loss 0.09236350655555725\n",
      "Epoch 25800, loss 0.0923231765627861\n",
      "Epoch 25900, loss 0.09237568080425262\n",
      "Epoch 26000, loss 0.0923418179154396\n",
      "Epoch 26100, loss 0.09229573607444763\n",
      "Epoch 26200, loss 0.09231863170862198\n",
      "Epoch 26300, loss 0.09231458604335785\n",
      "Epoch 26400, loss 0.09230627864599228\n",
      "Epoch 26500, loss 0.09229544550180435\n",
      "Epoch 26600, loss 0.09233339875936508\n",
      "Epoch 26700, loss 0.09225951880216599\n",
      "Epoch 26800, loss 0.09226949512958527\n",
      "Epoch 26900, loss 0.09226847440004349\n",
      "Epoch 27000, loss 0.09224315732717514\n",
      "Epoch 27100, loss 0.09227169305086136\n",
      "Epoch 27200, loss 0.09224119037389755\n",
      "Epoch 27300, loss 0.09223221242427826\n",
      "Epoch 27400, loss 0.09223651885986328\n",
      "Epoch 27500, loss 0.09223610907793045\n",
      "Epoch 27600, loss 0.09220414608716965\n",
      "Epoch 27700, loss 0.09220101684331894\n",
      "Epoch 27800, loss 0.0921759381890297\n",
      "Epoch 27900, loss 0.09219586104154587\n",
      "Epoch 28000, loss 0.09217314422130585\n",
      "Epoch 28100, loss 0.0921732485294342\n",
      "Epoch 28200, loss 0.09217993170022964\n",
      "Epoch 28300, loss 0.09217019379138947\n",
      "Epoch 28400, loss 0.09216900169849396\n",
      "Epoch 28500, loss 0.09216567873954773\n",
      "Epoch 28600, loss 0.09214268624782562\n",
      "Epoch 28700, loss 0.09214513003826141\n",
      "Epoch 28800, loss 0.09212560206651688\n",
      "Epoch 28900, loss 0.09211462736129761\n",
      "Epoch 29000, loss 0.09213569760322571\n",
      "Epoch 29100, loss 0.09211329370737076\n",
      "Epoch 29200, loss 0.0920916348695755\n",
      "Epoch 29300, loss 0.09209141880273819\n",
      "Epoch 29400, loss 0.09211143106222153\n",
      "Epoch 29500, loss 0.09207915514707565\n",
      "Epoch 29600, loss 0.09209170192480087\n",
      "Epoch 29700, loss 0.0920640304684639\n",
      "Epoch 29800, loss 0.09205765277147293\n",
      "Epoch 29900, loss 0.09208343923091888\n"
     ]
    }
   ],
   "source": [
    "# Training loop\n",
    "for step in range(N_EPOCHS):\n",
    "    data = (x_samples, y_samples)\n",
    "    loss, state = train_step(state, data)\n",
    "    history_callback.on_epoch_end(step, {\"loss\": loss})"
   ]
  },
  {
   "cell_type": "code",
   "execution_count": 20,
   "metadata": {},
   "outputs": [],
   "source": [
    "# Saving the model\n",
    "trainable_variables, non_trainable_variables, optimizer_variables = state\n",
    "for variable, value in zip(model.trainable_variables, trainable_variables):\n",
    "    variable.assign(value)\n",
    "for variable, value in zip(model.non_trainable_variables, non_trainable_variables):\n",
    "    variable.assign(value)"
   ]
  },
  {
   "cell_type": "code",
   "execution_count": 21,
   "metadata": {},
   "outputs": [
    {
     "data": {
      "image/png": "[encoded data removed]",
      "text/plain": [
       "<Figure size 640x480 with 1 Axes>"
      ]
     },
     "metadata": {},
     "output_type": "display_data"
    }
   ],
   "source": [
    "# Plot loss history\n",
    "plt.figure(1)\n",
    "plt.plot(history_callback.history)\n",
    "plt.yscale(\"log\")\n",
    "plt.title('Training Loss')\n",
    "plt.xlabel('Epoch')\n",
    "plt.ylabel('Loss')\n",
    "plt.show()"
   ]
  },
  {
   "cell_type": "code",
   "execution_count": 22,
   "metadata": {},
   "outputs": [
    {
     "name": "stdout",
     "output_type": "stream",
     "text": [
      "\u001b[1m7/7\u001b[0m \u001b[32m━━━━━━━━━━━━━━━━━━━━\u001b[0m\u001b[37m\u001b[0m \u001b[1m0s\u001b[0m 21ms/step\n"
     ]
    },
    {
     "data": {
      "image/png": "[encoded data removed]",
      "text/plain": [
       "<Figure size 640x480 with 1 Axes>"
      ]
     },
     "metadata": {},
     "output_type": "display_data"
    }
   ],
   "source": [
    "# Plot predictions vs actual data\n",
    "plt.figure(2)\n",
    "plt.scatter(x_samples, y_samples, label='Data')\n",
    "plt.scatter(x_samples, model.predict(x_samples), \n",
    "            label='Predictions, using model.predict')\n",
    "plt.scatter(x_samples, jax.vmap(model)(x_samples), \n",
    "            label='Predictions, using jax.vmap')\n",
    "plt.legend()\n",
    "plt.title('Data vs Predictions')\n",
    "plt.show()"
   ]
  }
 ],
 "metadata": {
  "kernelspec": {
   "display_name": ".venv",
   "language": "python",
   "name": "python3"
  },
  "language_info": {
   "codemirror_mode": {
    "name": "ipython",
    "version": 3
   },
   "file_extension": ".py",
   "mimetype": "text/x-python",
   "name": "python",
   "nbconvert_exporter": "python",
   "pygments_lexer": "ipython3",
   "version": "3.11.2"
  }
 },
 "nbformat": 4,
 "nbformat_minor": 2
}
